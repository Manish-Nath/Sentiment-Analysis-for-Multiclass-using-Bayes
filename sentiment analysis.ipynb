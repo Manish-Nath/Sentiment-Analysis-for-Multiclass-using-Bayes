{
 "cells": [
  {
   "cell_type": "code",
   "execution_count": 1,
   "id": "9f664ff2",
   "metadata": {},
   "outputs": [],
   "source": [
    "import pandas as pd\n",
    "import string\n",
    "import numpy as np"
   ]
  },
  {
   "cell_type": "code",
   "execution_count": 2,
   "id": "137b2615",
   "metadata": {},
   "outputs": [],
   "source": [
    "df=pd.read_csv(\"test.csv\",encoding=\"ISO-8859-1\")\n",
    "df=df[['text','sentiment']]\n",
    "df=df.dropna()\n"
   ]
  },
  {
   "cell_type": "code",
   "execution_count": 3,
   "id": "e1c7de66",
   "metadata": {},
   "outputs": [],
   "source": [
    "df.text=df.text.str.lower().str.translate(str.maketrans('', '', string.punctuation))\n"
   ]
  },
  {
   "cell_type": "code",
   "execution_count": 4,
   "id": "c2013fa0",
   "metadata": {},
   "outputs": [
    {
     "data": {
      "text/html": [
       "<div>\n",
       "<style scoped>\n",
       "    .dataframe tbody tr th:only-of-type {\n",
       "        vertical-align: middle;\n",
       "    }\n",
       "\n",
       "    .dataframe tbody tr th {\n",
       "        vertical-align: top;\n",
       "    }\n",
       "\n",
       "    .dataframe thead th {\n",
       "        text-align: right;\n",
       "    }\n",
       "</style>\n",
       "<table border=\"1\" class=\"dataframe\">\n",
       "  <thead>\n",
       "    <tr style=\"text-align: right;\">\n",
       "      <th></th>\n",
       "      <th>text</th>\n",
       "      <th>sentiment</th>\n",
       "    </tr>\n",
       "  </thead>\n",
       "  <tbody>\n",
       "    <tr>\n",
       "      <th>0</th>\n",
       "      <td>last session of the day  httptwitpiccom67ezh</td>\n",
       "      <td>neutral</td>\n",
       "    </tr>\n",
       "    <tr>\n",
       "      <th>1</th>\n",
       "      <td>shanghai is also really exciting precisely  s...</td>\n",
       "      <td>positive</td>\n",
       "    </tr>\n",
       "    <tr>\n",
       "      <th>2</th>\n",
       "      <td>recession hit veronique branquinho she has to ...</td>\n",
       "      <td>negative</td>\n",
       "    </tr>\n",
       "    <tr>\n",
       "      <th>3</th>\n",
       "      <td>happy bday</td>\n",
       "      <td>positive</td>\n",
       "    </tr>\n",
       "    <tr>\n",
       "      <th>4</th>\n",
       "      <td>httptwitpiccom4w75p  i like it</td>\n",
       "      <td>positive</td>\n",
       "    </tr>\n",
       "    <tr>\n",
       "      <th>...</th>\n",
       "      <td>...</td>\n",
       "      <td>...</td>\n",
       "    </tr>\n",
       "    <tr>\n",
       "      <th>3529</th>\n",
       "      <td>its at 3 am im very tired but i cant sleep  bu...</td>\n",
       "      <td>negative</td>\n",
       "    </tr>\n",
       "    <tr>\n",
       "      <th>3530</th>\n",
       "      <td>all alone in this old house again  thanks for ...</td>\n",
       "      <td>positive</td>\n",
       "    </tr>\n",
       "    <tr>\n",
       "      <th>3531</th>\n",
       "      <td>i know what you mean my little dog is sinking...</td>\n",
       "      <td>negative</td>\n",
       "    </tr>\n",
       "    <tr>\n",
       "      <th>3532</th>\n",
       "      <td>sutra what is your next youtube video gonna be...</td>\n",
       "      <td>positive</td>\n",
       "    </tr>\n",
       "    <tr>\n",
       "      <th>3533</th>\n",
       "      <td>httptwitpiccom4woj2  omgssh  ang cute ng bby</td>\n",
       "      <td>positive</td>\n",
       "    </tr>\n",
       "  </tbody>\n",
       "</table>\n",
       "<p>3534 rows × 2 columns</p>\n",
       "</div>"
      ],
      "text/plain": [
       "                                                   text sentiment\n",
       "0          last session of the day  httptwitpiccom67ezh   neutral\n",
       "1      shanghai is also really exciting precisely  s...  positive\n",
       "2     recession hit veronique branquinho she has to ...  negative\n",
       "3                                            happy bday  positive\n",
       "4                        httptwitpiccom4w75p  i like it  positive\n",
       "...                                                 ...       ...\n",
       "3529  its at 3 am im very tired but i cant sleep  bu...  negative\n",
       "3530  all alone in this old house again  thanks for ...  positive\n",
       "3531   i know what you mean my little dog is sinking...  negative\n",
       "3532  sutra what is your next youtube video gonna be...  positive\n",
       "3533       httptwitpiccom4woj2  omgssh  ang cute ng bby  positive\n",
       "\n",
       "[3534 rows x 2 columns]"
      ]
     },
     "execution_count": 4,
     "metadata": {},
     "output_type": "execute_result"
    }
   ],
   "source": [
    "df"
   ]
  },
  {
   "cell_type": "code",
   "execution_count": 5,
   "id": "27237d2b",
   "metadata": {},
   "outputs": [],
   "source": [
    "df=df.sample(frac=1)\n"
   ]
  },
  {
   "cell_type": "code",
   "execution_count": 6,
   "id": "9d4edc78",
   "metadata": {},
   "outputs": [
    {
     "name": "stdout",
     "output_type": "stream",
     "text": [
      " httptwitpiccom4l85a  best kind of gum ever i just bought a pack\n",
      "----------\n",
      "i need a present for my mom  could anybody help me \n",
      "----------\n",
      "thank god for some overcast and ivory trying to get my mom to take me out to lunch egh doesnt look like its gonna work\n",
      "----------\n",
      "leme put this bottle of ciroc in yababy i can make you popular\n",
      "----------\n",
      " aww you are so helpful  we getting sweepy here sis says we can have whipped cream before bed  i save u some\n",
      "----------\n"
     ]
    }
   ],
   "source": [
    "for i in df.loc[df.sentiment[df.sentiment=='positive'].iloc[:5].index, 'text']:\n",
    "    print(i)\n",
    "    print(\"----------\")\n"
   ]
  },
  {
   "cell_type": "code",
   "execution_count": 7,
   "id": "d7f1f180",
   "metadata": {},
   "outputs": [
    {
     "name": "stdout",
     "output_type": "stream",
     "text": [
      " im sorry\n",
      "----------\n",
      "omg  madness just came on the radio\n",
      "----------\n",
      "recession hit veronique branquinho she has to quit her company such a shame\n",
      "----------\n",
      "k2k  y360 closing get out\n",
      "----------\n",
      "jus got back from a run up sunset blvd my cuzin tried to kill me my legs are still movin and im sittin down\n",
      "----------\n"
     ]
    }
   ],
   "source": [
    "for i in df.loc[df.sentiment[df.sentiment=='negative'].iloc[:5].index, 'text']:\n",
    "    print(i)\n",
    "    print(\"----------\")\n"
   ]
  },
  {
   "cell_type": "code",
   "execution_count": 8,
   "id": "425d66b6",
   "metadata": {},
   "outputs": [
    {
     "name": "stdout",
     "output_type": "stream",
     "text": [
      " twappy httpbitlyd9qvk\n",
      "----------\n",
      "is not ready for school yet  httpplurkcompwy69d\n",
      "----------\n",
      " or ftrh  for the ride home\n",
      "----------\n",
      "first surprise birthday ever best night ive had in a  long time\n",
      "----------\n",
      "capones island in 2 days my summer is just starting\n",
      "----------\n"
     ]
    }
   ],
   "source": [
    "for i in df.loc[df.sentiment[df.sentiment=='neutral'].iloc[:5].index, 'text']:\n",
    "    print(i)\n",
    "    print(\"----------\")\n"
   ]
  },
  {
   "cell_type": "code",
   "execution_count": 9,
   "id": "c71d3dcf",
   "metadata": {},
   "outputs": [],
   "source": [
    "training_df=df.iloc[:int(len(df)*0.7)]\n",
    "testing_df=df.iloc[int(len(df)*0.7):]\n"
   ]
  },
  {
   "cell_type": "code",
   "execution_count": 10,
   "id": "41a6cae3",
   "metadata": {},
   "outputs": [
    {
     "data": {
      "text/html": [
       "<div>\n",
       "<style scoped>\n",
       "    .dataframe tbody tr th:only-of-type {\n",
       "        vertical-align: middle;\n",
       "    }\n",
       "\n",
       "    .dataframe tbody tr th {\n",
       "        vertical-align: top;\n",
       "    }\n",
       "\n",
       "    .dataframe thead th {\n",
       "        text-align: right;\n",
       "    }\n",
       "</style>\n",
       "<table border=\"1\" class=\"dataframe\">\n",
       "  <thead>\n",
       "    <tr style=\"text-align: right;\">\n",
       "      <th></th>\n",
       "      <th>text</th>\n",
       "      <th>sentiment</th>\n",
       "    </tr>\n",
       "  </thead>\n",
       "  <tbody>\n",
       "    <tr>\n",
       "      <th>3191</th>\n",
       "      <td>twappy httpbitlyd9qvk</td>\n",
       "      <td>neutral</td>\n",
       "    </tr>\n",
       "    <tr>\n",
       "      <th>1555</th>\n",
       "      <td>im sorry</td>\n",
       "      <td>negative</td>\n",
       "    </tr>\n",
       "    <tr>\n",
       "      <th>1047</th>\n",
       "      <td>httptwitpiccom4l85a  best kind of gum ever i ...</td>\n",
       "      <td>positive</td>\n",
       "    </tr>\n",
       "    <tr>\n",
       "      <th>603</th>\n",
       "      <td>i need a present for my mom  could anybody hel...</td>\n",
       "      <td>positive</td>\n",
       "    </tr>\n",
       "    <tr>\n",
       "      <th>2473</th>\n",
       "      <td>is not ready for school yet  httpplurkcompwy69d</td>\n",
       "      <td>neutral</td>\n",
       "    </tr>\n",
       "    <tr>\n",
       "      <th>...</th>\n",
       "      <td>...</td>\n",
       "      <td>...</td>\n",
       "    </tr>\n",
       "    <tr>\n",
       "      <th>1689</th>\n",
       "      <td>guess who has internet at her house raises han...</td>\n",
       "      <td>neutral</td>\n",
       "    </tr>\n",
       "    <tr>\n",
       "      <th>1417</th>\n",
       "      <td>no kickboxing classes today  pretty bummed sti...</td>\n",
       "      <td>negative</td>\n",
       "    </tr>\n",
       "    <tr>\n",
       "      <th>1502</th>\n",
       "      <td>hearing that my songs brighten someones day a...</td>\n",
       "      <td>positive</td>\n",
       "    </tr>\n",
       "    <tr>\n",
       "      <th>1081</th>\n",
       "      <td>very sweet haha i am like super proud to be ...</td>\n",
       "      <td>positive</td>\n",
       "    </tr>\n",
       "    <tr>\n",
       "      <th>917</th>\n",
       "      <td>captain jack is back</td>\n",
       "      <td>neutral</td>\n",
       "    </tr>\n",
       "  </tbody>\n",
       "</table>\n",
       "<p>2473 rows × 2 columns</p>\n",
       "</div>"
      ],
      "text/plain": [
       "                                                   text sentiment\n",
       "3191                              twappy httpbitlyd9qvk   neutral\n",
       "1555                                           im sorry  negative\n",
       "1047   httptwitpiccom4l85a  best kind of gum ever i ...  positive\n",
       "603   i need a present for my mom  could anybody hel...  positive\n",
       "2473    is not ready for school yet  httpplurkcompwy69d   neutral\n",
       "...                                                 ...       ...\n",
       "1689  guess who has internet at her house raises han...   neutral\n",
       "1417  no kickboxing classes today  pretty bummed sti...  negative\n",
       "1502   hearing that my songs brighten someones day a...  positive\n",
       "1081    very sweet haha i am like super proud to be ...  positive\n",
       "917                                captain jack is back   neutral\n",
       "\n",
       "[2473 rows x 2 columns]"
      ]
     },
     "execution_count": 10,
     "metadata": {},
     "output_type": "execute_result"
    }
   ],
   "source": [
    "training_df"
   ]
  },
  {
   "cell_type": "code",
   "execution_count": 11,
   "id": "002da313",
   "metadata": {},
   "outputs": [
    {
     "data": {
      "text/html": [
       "<div>\n",
       "<style scoped>\n",
       "    .dataframe tbody tr th:only-of-type {\n",
       "        vertical-align: middle;\n",
       "    }\n",
       "\n",
       "    .dataframe tbody tr th {\n",
       "        vertical-align: top;\n",
       "    }\n",
       "\n",
       "    .dataframe thead th {\n",
       "        text-align: right;\n",
       "    }\n",
       "</style>\n",
       "<table border=\"1\" class=\"dataframe\">\n",
       "  <thead>\n",
       "    <tr style=\"text-align: right;\">\n",
       "      <th></th>\n",
       "      <th>text</th>\n",
       "      <th>sentiment</th>\n",
       "    </tr>\n",
       "  </thead>\n",
       "  <tbody>\n",
       "    <tr>\n",
       "      <th>3144</th>\n",
       "      <td>really annoyed that work appear to have blocke...</td>\n",
       "      <td>negative</td>\n",
       "    </tr>\n",
       "    <tr>\n",
       "      <th>1234</th>\n",
       "      <td>ahh i love chinese music haha  not gonna see m...</td>\n",
       "      <td>positive</td>\n",
       "    </tr>\n",
       "    <tr>\n",
       "      <th>2628</th>\n",
       "      <td>my cankle is sore</td>\n",
       "      <td>negative</td>\n",
       "    </tr>\n",
       "    <tr>\n",
       "      <th>2390</th>\n",
       "      <td>oh mann me likey that but sadly im not bein a...</td>\n",
       "      <td>negative</td>\n",
       "    </tr>\n",
       "    <tr>\n",
       "      <th>3151</th>\n",
       "      <td>you writing fanfic me read</td>\n",
       "      <td>neutral</td>\n",
       "    </tr>\n",
       "    <tr>\n",
       "      <th>...</th>\n",
       "      <td>...</td>\n",
       "      <td>...</td>\n",
       "    </tr>\n",
       "    <tr>\n",
       "      <th>1933</th>\n",
       "      <td>at the  concert i hope  makes a guest appearance</td>\n",
       "      <td>neutral</td>\n",
       "    </tr>\n",
       "    <tr>\n",
       "      <th>244</th>\n",
       "      <td>my sister in law just left for her prom she lo...</td>\n",
       "      <td>positive</td>\n",
       "    </tr>\n",
       "    <tr>\n",
       "      <th>362</th>\n",
       "      <td>i have nothing witty to say</td>\n",
       "      <td>neutral</td>\n",
       "    </tr>\n",
       "    <tr>\n",
       "      <th>551</th>\n",
       "      <td>3 your gonna be the first  twitter  cause you...</td>\n",
       "      <td>positive</td>\n",
       "    </tr>\n",
       "    <tr>\n",
       "      <th>2745</th>\n",
       "      <td>nevermindi kept reading and see yall r gonna ...</td>\n",
       "      <td>negative</td>\n",
       "    </tr>\n",
       "  </tbody>\n",
       "</table>\n",
       "<p>1061 rows × 2 columns</p>\n",
       "</div>"
      ],
      "text/plain": [
       "                                                   text sentiment\n",
       "3144  really annoyed that work appear to have blocke...  negative\n",
       "1234  ahh i love chinese music haha  not gonna see m...  positive\n",
       "2628                                  my cankle is sore  negative\n",
       "2390   oh mann me likey that but sadly im not bein a...  negative\n",
       "3151                         you writing fanfic me read   neutral\n",
       "...                                                 ...       ...\n",
       "1933   at the  concert i hope  makes a guest appearance   neutral\n",
       "244   my sister in law just left for her prom she lo...  positive\n",
       "362                         i have nothing witty to say   neutral\n",
       "551    3 your gonna be the first  twitter  cause you...  positive\n",
       "2745   nevermindi kept reading and see yall r gonna ...  negative\n",
       "\n",
       "[1061 rows x 2 columns]"
      ]
     },
     "execution_count": 11,
     "metadata": {},
     "output_type": "execute_result"
    }
   ],
   "source": [
    "testing_df"
   ]
  },
  {
   "cell_type": "code",
   "execution_count": 12,
   "id": "160908b3",
   "metadata": {},
   "outputs": [],
   "source": [
    "fraction_neutral = (training_df['sentiment']=='neutral').mean()\n",
    "fraction_positive=( training_df['sentiment']=='positive').mean()\n",
    "fraction_negative= (testing_df['sentiment']=='negative').mean()\n"
   ]
  },
  {
   "cell_type": "code",
   "execution_count": 13,
   "id": "076b324f",
   "metadata": {},
   "outputs": [],
   "source": [
    "train_positive_words=''.join(training_df[training_df['sentiment']=='positive'].text).split(' ')\n",
    "train_negative_words=''.join(training_df[training_df['sentiment']=='negative'].text).split(' ')\n",
    "train_neutral_words=''.join(training_df[training_df['sentiment']=='neutral'].text).split(' ')\n",
    "\n"
   ]
  },
  {
   "cell_type": "code",
   "execution_count": 14,
   "id": "1cd3e19a",
   "metadata": {},
   "outputs": [],
   "source": [
    "common_words_pn=set(train_positive_words).intersection(set(train_negative_words))\n",
    "common_words=set(common_words_pn).intersection(set(train_neutral_words))"
   ]
  },
  {
   "cell_type": "code",
   "execution_count": 15,
   "id": "57a461ce",
   "metadata": {},
   "outputs": [],
   "source": [
    "train_neutral_bow=dict()\n",
    "for w in common_words:\n",
    "    train_neutral_bow[w]=train_neutral_words.count(w)/len(train_neutral_words)\n",
    "    \n",
    "train_positive_bow=dict()\n",
    "for w in common_words:\n",
    "    train_positive_bow[w]=train_positive_words.count(w)/len(train_positive_words)\n",
    "train_negative_bow=dict()\n",
    "for w in common_words:\n",
    "    train_negative_bow[w]=train_negative_words.count(w)/len(train_negative_words)\n"
   ]
  },
  {
   "cell_type": "code",
   "execution_count": 16,
   "id": "e7c1c0bf",
   "metadata": {},
   "outputs": [
    {
     "name": "stdout",
     "output_type": "stream",
     "text": [
      ": 0.055783265020493855\n",
      "definitely: 0.0006997900629811056\n",
      "always: 0.000999700089973008\n",
      "need: 0.0013995801259622112\n",
      "are: 0.0038988303508947315\n",
      "over: 0.000499850044986504\n",
      "3d: 9.997000899730081e-05\n",
      "believe: 0.00029991002699190244\n",
      "youre: 0.001599520143956813\n",
      "dishes: 9.997000899730081e-05\n"
     ]
    }
   ],
   "source": [
    "for key, value in list(train_positive_bow.items())[:10]:\n",
    "    print(f'{key}: {value}')"
   ]
  },
  {
   "cell_type": "code",
   "execution_count": 17,
   "id": "16ce1992",
   "metadata": {},
   "outputs": [
    {
     "name": "stdout",
     "output_type": "stream",
     "text": [
      ": 0.045247395833333336\n",
      "definitely: 0.00021701388888888888\n",
      "always: 0.0008680555555555555\n",
      "need: 0.0013020833333333333\n",
      "are: 0.003689236111111111\n",
      "over: 0.001736111111111111\n",
      "3d: 0.00021701388888888888\n",
      "believe: 0.0003255208333333333\n",
      "youre: 0.0007595486111111111\n",
      "dishes: 0.00010850694444444444\n"
     ]
    }
   ],
   "source": [
    "for key, value in list(train_negative_bow.items())[:10]:\n",
    "    print(f'{key}: {value}')"
   ]
  },
  {
   "cell_type": "markdown",
   "id": "7732f638",
   "metadata": {},
   "source": [
    "# Classification"
   ]
  },
  {
   "cell_type": "markdown",
   "id": "2d52e8e9",
   "metadata": {},
   "source": [
    "Predict on Test Set P(positive|\"awww holly shes so cute\")∝ P(\"awww holly shes so cute \"|Positive)*P(positive)\n",
    "\n",
    "we make IID assumption on the words so it can be written as\n",
    "\n",
    "P(\"aww\"|positive).P(\"holly\"|positive)...................P(\"cute\"|postive)*P(postive)\n",
    "\n"
   ]
  },
  {
   "cell_type": "markdown",
   "id": "ab06aa9e",
   "metadata": {},
   "source": [
    "\n",
    "# Predicition"
   ]
  },
  {
   "cell_type": "code",
   "execution_count": 18,
   "id": "7c08fff8",
   "metadata": {},
   "outputs": [
    {
     "name": "stdout",
     "output_type": "stream",
     "text": [
      "<generator object <genexpr> at 0x00000265A3578FB0>\n"
     ]
    }
   ],
   "source": [
    "t='she is so cute'\n",
    "valid=(w for w in t if w in train_positive_words)\n",
    "print(valid)"
   ]
  },
  {
   "cell_type": "code",
   "execution_count": 19,
   "id": "70c23c6f",
   "metadata": {},
   "outputs": [],
   "source": [
    "def predict(t,verbose=False):\n",
    "    valid_words = [w for w in t.split() if w in train_positive_bow]\n",
    "\n",
    "    positive_prob=[train_positive_bow[w] for w in valid_words]\n",
    "    negative_prob=[train_negative_bow[w] for w in valid_words]\n",
    "    neutral_prob=[train_neutral_bow[w] for w in valid_words]\n",
    "\n",
    "    \n",
    "    if verbose:\n",
    "        df=pd.DataFrame()\n",
    "        df['words']=valid_words\n",
    "        df['positive_prob']=positive_prob\n",
    "        df['negative_prob']=negative_prob\n",
    "        df['neutral_prob']=neutral_prob\n",
    "\n",
    "        df['ratio_1']=[s/n if n>0 else np.inf for s,n in zip(positive_prob,negative_prob)]\n",
    "        df['ratio_2']=[s/n if n>0 else np.inf for s,n in zip(positive_prob,neutral_prob)]\n",
    "        df['ratio_3']=[s/n if n>0 else np.inf for s,n in zip(negative_prob,neutral_prob)]\n",
    "                \n",
    "        print(df)\n",
    "    \n",
    "    pos_score=sum([np.log(p) for p in positive_prob])+np.log(fraction_positive)\n",
    "    \n",
    "    neg_score=sum([np.log(p) for p in negative_prob])+np.log(fraction_negative)\n",
    "\n",
    "    neutral_score=sum([np.log(p) for p in neutral_prob])+np.log(fraction_neutral)\n",
    "\n",
    "    if verbose:\n",
    "        print(\"positive score is :\",pos_score)\n",
    "        print(\"Negative score is :\",neg_score)\n",
    "        print('neutral Score is :',neutral_score)\n",
    "    if pos_score>=neg_score and pos_score>=neutral_score:\n",
    "        return \"positive\"\n",
    "    if neg_score>=pos_score and neg_score>=neutral_score:\n",
    "        return \"negative\"\n",
    "    if neutral_score>=neg_score and pos_score<=neutral_score:\n",
    "        return \"neutral\""
   ]
  },
  {
   "cell_type": "code",
   "execution_count": 20,
   "id": "87055fdc",
   "metadata": {},
   "outputs": [
    {
     "name": "stdout",
     "output_type": "stream",
     "text": [
      "  words  positive_prob  negative_prob  neutral_prob   ratio_1   ratio_2  \\\n",
      "0   she       0.001999       0.001194      0.000985  1.675134  2.030391   \n",
      "1    is       0.009097       0.010525      0.009191  0.864335  0.989816   \n",
      "2   not       0.002899       0.005100      0.006811  0.568476  0.425648   \n",
      "3    so       0.008198       0.008030      0.005908  1.020926  1.387434   \n",
      "4  cute       0.000500       0.000109      0.000328  4.606618  1.522793   \n",
      "\n",
      "    ratio_3  \n",
      "0  1.212077  \n",
      "1  1.145176  \n",
      "2  0.748753  \n",
      "3  1.358995  \n",
      "4  0.330566  \n",
      "positive score is : -30.30811588427425\n",
      "Negative score is : -31.779847632420164\n",
      "neutral Score is : -30.675554171375886\n"
     ]
    },
    {
     "data": {
      "text/plain": [
       "'positive'"
      ]
     },
     "execution_count": 20,
     "metadata": {},
     "output_type": "execute_result"
    }
   ],
   "source": [
    "predict(\"she is not so  cute\",True)"
   ]
  },
  {
   "cell_type": "markdown",
   "id": "86f1121c",
   "metadata": {},
   "source": [
    "# The above is not correctly classified cause we have taken IID assumption so although there is not present in the sentence but since the effect of positive prob of other words is greater which makes the total prob positive"
   ]
  },
  {
   "cell_type": "code",
   "execution_count": 21,
   "id": "5bdf8055",
   "metadata": {},
   "outputs": [
    {
     "data": {
      "text/plain": [
       "'positive'"
      ]
     },
     "execution_count": 21,
     "metadata": {},
     "output_type": "execute_result"
    }
   ],
   "source": [
    "predict(\"she is  so  cute\")"
   ]
  },
  {
   "cell_type": "code",
   "execution_count": 22,
   "id": "43a327d3",
   "metadata": {},
   "outputs": [
    {
     "data": {
      "text/plain": [
       "'positive'"
      ]
     },
     "execution_count": 22,
     "metadata": {},
     "output_type": "execute_result"
    }
   ],
   "source": [
    "predict(\"lets meet, its gonna be crazy\")"
   ]
  },
  {
   "cell_type": "code",
   "execution_count": 23,
   "id": "4d36b688",
   "metadata": {},
   "outputs": [
    {
     "data": {
      "text/plain": [
       "3144     neutral\n",
       "1234    positive\n",
       "2628    negative\n",
       "2390    negative\n",
       "3151     neutral\n",
       "          ...   \n",
       "1933    negative\n",
       "244      neutral\n",
       "362     negative\n",
       "551      neutral\n",
       "2745     neutral\n",
       "Name: text, Length: 1061, dtype: object"
      ]
     },
     "execution_count": 23,
     "metadata": {},
     "output_type": "execute_result"
    }
   ],
   "source": [
    "predictions=testing_df.text.apply(lambda t: predict(t))\n",
    "predictions"
   ]
  },
  {
   "cell_type": "code",
   "execution_count": 24,
   "id": "e16228a1",
   "metadata": {},
   "outputs": [
    {
     "name": "stdout",
     "output_type": "stream",
     "text": [
      "316\n",
      "192\n",
      "Fraction positive Correctly Detected: 0.6075949367088608\n"
     ]
    }
   ],
   "source": [
    "predictions=testing_df.text.apply(lambda t: predict(t))\n",
    "print(np.sum(testing_df['sentiment']=='positive'))\n",
    "t=np.sum((predictions == 'positive') & (testing_df['sentiment'] == 'positive'))\n",
    "print(t)\n",
    "recall = np.sum((predictions == 'positive') & (testing_df['sentiment'] == 'positive')) / np.sum(testing_df['sentiment'] == 'positive')\n",
    "print('Fraction positive Correctly Detected: %s'%recall)\n"
   ]
  },
  {
   "cell_type": "code",
   "execution_count": 25,
   "id": "0ea35c15",
   "metadata": {},
   "outputs": [
    {
     "name": "stdout",
     "output_type": "stream",
     "text": [
      "Recall for Positive Sentiment: 0.6075949367088608\n",
      "Recall for Negative Sentiment: 0.48\n",
      "Recall for Neutral Sentiment: 0.5213483146067416\n"
     ]
    }
   ],
   "source": [
    "# Assuming predictions and true_sentiments are Pandas Series or NumPy arrays\n",
    "recall_positive = np.sum((predictions == 'positive') & (testing_df['sentiment'] == 'positive')) / np.sum(testing_df['sentiment']== 'positive')\n",
    "recall_negative = np.sum((predictions == 'negative') & (testing_df['sentiment']=='negative')) / np.sum(testing_df['sentiment'] == 'negative')\n",
    "recall_neutral = np.sum((predictions == 'neutral') & (testing_df['sentiment']== 'neutral')) / np.sum(testing_df['sentiment']== 'neutral')\n",
    "\n",
    "print('Recall for Positive Sentiment:', recall_positive)\n",
    "print('Recall for Negative Sentiment:', recall_negative)\n",
    "print('Recall for Neutral Sentiment:', recall_neutral)\n"
   ]
  },
  {
   "cell_type": "code",
   "execution_count": null,
   "id": "7037e1ef",
   "metadata": {},
   "outputs": [],
   "source": []
  },
  {
   "cell_type": "code",
   "execution_count": null,
   "id": "aa706d46",
   "metadata": {},
   "outputs": [],
   "source": []
  }
 ],
 "metadata": {
  "kernelspec": {
   "display_name": "Python 3 (ipykernel)",
   "language": "python",
   "name": "python3"
  },
  "language_info": {
   "codemirror_mode": {
    "name": "ipython",
    "version": 3
   },
   "file_extension": ".py",
   "mimetype": "text/x-python",
   "name": "python",
   "nbconvert_exporter": "python",
   "pygments_lexer": "ipython3",
   "version": "3.11.4"
  }
 },
 "nbformat": 4,
 "nbformat_minor": 5
}
