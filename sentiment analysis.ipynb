{
 "cells": [
  {
   "cell_type": "code",
   "execution_count": 175,
   "id": "9f664ff2",
   "metadata": {},
   "outputs": [],
   "source": [
    "import pandas as pd\n",
    "import string\n",
    "import numpy as np"
   ]
  },
  {
   "cell_type": "code",
   "execution_count": 176,
   "id": "137b2615",
   "metadata": {},
   "outputs": [],
   "source": [
    "df=pd.read_csv(\"test.csv\",encoding=\"ISO-8859-1\")\n",
    "df=df[['text','sentiment']]\n",
    "df=df.dropna()\n"
   ]
  },
  {
   "cell_type": "code",
   "execution_count": 177,
   "id": "e1c7de66",
   "metadata": {},
   "outputs": [],
   "source": [
    "df.text=df.text.str.lower().str.translate(str.maketrans('', '', string.punctuation))\n"
   ]
  },
  {
   "cell_type": "code",
   "execution_count": 178,
   "id": "c2013fa0",
   "metadata": {},
   "outputs": [
    {
     "data": {
      "text/html": [
       "<div>\n",
       "<style scoped>\n",
       "    .dataframe tbody tr th:only-of-type {\n",
       "        vertical-align: middle;\n",
       "    }\n",
       "\n",
       "    .dataframe tbody tr th {\n",
       "        vertical-align: top;\n",
       "    }\n",
       "\n",
       "    .dataframe thead th {\n",
       "        text-align: right;\n",
       "    }\n",
       "</style>\n",
       "<table border=\"1\" class=\"dataframe\">\n",
       "  <thead>\n",
       "    <tr style=\"text-align: right;\">\n",
       "      <th></th>\n",
       "      <th>text</th>\n",
       "      <th>sentiment</th>\n",
       "    </tr>\n",
       "  </thead>\n",
       "  <tbody>\n",
       "    <tr>\n",
       "      <th>0</th>\n",
       "      <td>last session of the day  httptwitpiccom67ezh</td>\n",
       "      <td>neutral</td>\n",
       "    </tr>\n",
       "    <tr>\n",
       "      <th>1</th>\n",
       "      <td>shanghai is also really exciting precisely  s...</td>\n",
       "      <td>positive</td>\n",
       "    </tr>\n",
       "    <tr>\n",
       "      <th>2</th>\n",
       "      <td>recession hit veronique branquinho she has to ...</td>\n",
       "      <td>negative</td>\n",
       "    </tr>\n",
       "    <tr>\n",
       "      <th>3</th>\n",
       "      <td>happy bday</td>\n",
       "      <td>positive</td>\n",
       "    </tr>\n",
       "    <tr>\n",
       "      <th>4</th>\n",
       "      <td>httptwitpiccom4w75p  i like it</td>\n",
       "      <td>positive</td>\n",
       "    </tr>\n",
       "    <tr>\n",
       "      <th>...</th>\n",
       "      <td>...</td>\n",
       "      <td>...</td>\n",
       "    </tr>\n",
       "    <tr>\n",
       "      <th>3529</th>\n",
       "      <td>its at 3 am im very tired but i cant sleep  bu...</td>\n",
       "      <td>negative</td>\n",
       "    </tr>\n",
       "    <tr>\n",
       "      <th>3530</th>\n",
       "      <td>all alone in this old house again  thanks for ...</td>\n",
       "      <td>positive</td>\n",
       "    </tr>\n",
       "    <tr>\n",
       "      <th>3531</th>\n",
       "      <td>i know what you mean my little dog is sinking...</td>\n",
       "      <td>negative</td>\n",
       "    </tr>\n",
       "    <tr>\n",
       "      <th>3532</th>\n",
       "      <td>sutra what is your next youtube video gonna be...</td>\n",
       "      <td>positive</td>\n",
       "    </tr>\n",
       "    <tr>\n",
       "      <th>3533</th>\n",
       "      <td>httptwitpiccom4woj2  omgssh  ang cute ng bby</td>\n",
       "      <td>positive</td>\n",
       "    </tr>\n",
       "  </tbody>\n",
       "</table>\n",
       "<p>3534 rows × 2 columns</p>\n",
       "</div>"
      ],
      "text/plain": [
       "                                                   text sentiment\n",
       "0          last session of the day  httptwitpiccom67ezh   neutral\n",
       "1      shanghai is also really exciting precisely  s...  positive\n",
       "2     recession hit veronique branquinho she has to ...  negative\n",
       "3                                            happy bday  positive\n",
       "4                        httptwitpiccom4w75p  i like it  positive\n",
       "...                                                 ...       ...\n",
       "3529  its at 3 am im very tired but i cant sleep  bu...  negative\n",
       "3530  all alone in this old house again  thanks for ...  positive\n",
       "3531   i know what you mean my little dog is sinking...  negative\n",
       "3532  sutra what is your next youtube video gonna be...  positive\n",
       "3533       httptwitpiccom4woj2  omgssh  ang cute ng bby  positive\n",
       "\n",
       "[3534 rows x 2 columns]"
      ]
     },
     "execution_count": 178,
     "metadata": {},
     "output_type": "execute_result"
    }
   ],
   "source": [
    "df"
   ]
  },
  {
   "cell_type": "code",
   "execution_count": 179,
   "id": "27237d2b",
   "metadata": {},
   "outputs": [],
   "source": [
    "df=df.sample(frac=1)\n"
   ]
  },
  {
   "cell_type": "code",
   "execution_count": 180,
   "id": "9d4edc78",
   "metadata": {},
   "outputs": [
    {
     "name": "stdout",
     "output_type": "stream",
     "text": [
      "didnt meet rosie o donnell but it was still a fun night\n",
      "----------\n",
      "going to al ain  need to check out one store hope i find things that im looking for\n",
      "----------\n",
      "just got back from kuantan had sooooooo much fun\n",
      "----------\n",
      " always welcome sweetie hugs\n",
      "----------\n",
      " rofl u did  hahaha lemme tell salman munir p p\n",
      "----------\n"
     ]
    }
   ],
   "source": [
    "for i in df.loc[df.sentiment[df.sentiment=='positive'].iloc[:5].index, 'text']:\n",
    "    print(i)\n",
    "    print(\"----------\")\n"
   ]
  },
  {
   "cell_type": "code",
   "execution_count": 181,
   "id": "d7f1f180",
   "metadata": {},
   "outputs": [
    {
     "name": "stdout",
     "output_type": "stream",
     "text": [
      "twitter fam im about to hop back on aim i went ghost on yall lolz sowwy\n",
      "----------\n",
      "i have been playing skate for two hours now i need to get out and actually skate but its too late\n",
      "----------\n",
      "bebop thats lame sorry\n",
      "----------\n",
      " oh nosorry to hear that \n",
      "----------\n",
      "  nooo  i dont know whyi click on tweetdeck025manualblink182air and it doesnt run so sad\n",
      "----------\n"
     ]
    }
   ],
   "source": [
    "for i in df.loc[df.sentiment[df.sentiment=='negative'].iloc[:5].index, 'text']:\n",
    "    print(i)\n",
    "    print(\"----------\")\n"
   ]
  },
  {
   "cell_type": "code",
   "execution_count": 182,
   "id": "425d66b6",
   "metadata": {},
   "outputs": [
    {
     "name": "stdout",
     "output_type": "stream",
     "text": [
      "watching the notebook\n",
      "----------\n",
      "nooooooooanother headachehopefully not a migraine\n",
      "----------\n",
      " jia you \n",
      "----------\n",
      " httptwitpiccom1aida  snood\n",
      "----------\n",
      "tdh can you install ruby gems and rails on keep please\n",
      "----------\n"
     ]
    }
   ],
   "source": [
    "for i in df.loc[df.sentiment[df.sentiment=='neutral'].iloc[:5].index, 'text']:\n",
    "    print(i)\n",
    "    print(\"----------\")\n"
   ]
  },
  {
   "cell_type": "code",
   "execution_count": 183,
   "id": "c71d3dcf",
   "metadata": {},
   "outputs": [],
   "source": [
    "training_df=df.iloc[:int(len(df)*0.7)]\n",
    "testing_df=df.iloc[int(len(df)*0.7):]\n"
   ]
  },
  {
   "cell_type": "code",
   "execution_count": 184,
   "id": "41a6cae3",
   "metadata": {},
   "outputs": [
    {
     "data": {
      "text/html": [
       "<div>\n",
       "<style scoped>\n",
       "    .dataframe tbody tr th:only-of-type {\n",
       "        vertical-align: middle;\n",
       "    }\n",
       "\n",
       "    .dataframe tbody tr th {\n",
       "        vertical-align: top;\n",
       "    }\n",
       "\n",
       "    .dataframe thead th {\n",
       "        text-align: right;\n",
       "    }\n",
       "</style>\n",
       "<table border=\"1\" class=\"dataframe\">\n",
       "  <thead>\n",
       "    <tr style=\"text-align: right;\">\n",
       "      <th></th>\n",
       "      <th>text</th>\n",
       "      <th>sentiment</th>\n",
       "    </tr>\n",
       "  </thead>\n",
       "  <tbody>\n",
       "    <tr>\n",
       "      <th>3498</th>\n",
       "      <td>didnt meet rosie o donnell but it was still a ...</td>\n",
       "      <td>positive</td>\n",
       "    </tr>\n",
       "    <tr>\n",
       "      <th>642</th>\n",
       "      <td>twitter fam im about to hop back on aim i went...</td>\n",
       "      <td>negative</td>\n",
       "    </tr>\n",
       "    <tr>\n",
       "      <th>1043</th>\n",
       "      <td>watching the notebook</td>\n",
       "      <td>neutral</td>\n",
       "    </tr>\n",
       "    <tr>\n",
       "      <th>2351</th>\n",
       "      <td>i have been playing skate for two hours now i ...</td>\n",
       "      <td>negative</td>\n",
       "    </tr>\n",
       "    <tr>\n",
       "      <th>778</th>\n",
       "      <td>going to al ain  need to check out one store h...</td>\n",
       "      <td>positive</td>\n",
       "    </tr>\n",
       "    <tr>\n",
       "      <th>...</th>\n",
       "      <td>...</td>\n",
       "      <td>...</td>\n",
       "    </tr>\n",
       "    <tr>\n",
       "      <th>2455</th>\n",
       "      <td>its a bad start to the day when youre sweating...</td>\n",
       "      <td>negative</td>\n",
       "    </tr>\n",
       "    <tr>\n",
       "      <th>276</th>\n",
       "      <td>thinks revising in the garden from 8 this morn...</td>\n",
       "      <td>negative</td>\n",
       "    </tr>\n",
       "    <tr>\n",
       "      <th>527</th>\n",
       "      <td>epicentre wheelock place  tourists only</td>\n",
       "      <td>neutral</td>\n",
       "    </tr>\n",
       "    <tr>\n",
       "      <th>1711</th>\n",
       "      <td>same to you bud kudos on your hardcore gym tr...</td>\n",
       "      <td>positive</td>\n",
       "    </tr>\n",
       "    <tr>\n",
       "      <th>2342</th>\n",
       "      <td>two oclock please come faster</td>\n",
       "      <td>neutral</td>\n",
       "    </tr>\n",
       "  </tbody>\n",
       "</table>\n",
       "<p>2473 rows × 2 columns</p>\n",
       "</div>"
      ],
      "text/plain": [
       "                                                   text sentiment\n",
       "3498  didnt meet rosie o donnell but it was still a ...  positive\n",
       "642   twitter fam im about to hop back on aim i went...  negative\n",
       "1043                              watching the notebook   neutral\n",
       "2351  i have been playing skate for two hours now i ...  negative\n",
       "778   going to al ain  need to check out one store h...  positive\n",
       "...                                                 ...       ...\n",
       "2455  its a bad start to the day when youre sweating...  negative\n",
       "276   thinks revising in the garden from 8 this morn...  negative\n",
       "527             epicentre wheelock place  tourists only   neutral\n",
       "1711   same to you bud kudos on your hardcore gym tr...  positive\n",
       "2342                      two oclock please come faster   neutral\n",
       "\n",
       "[2473 rows x 2 columns]"
      ]
     },
     "execution_count": 184,
     "metadata": {},
     "output_type": "execute_result"
    }
   ],
   "source": [
    "training_df"
   ]
  },
  {
   "cell_type": "code",
   "execution_count": 185,
   "id": "002da313",
   "metadata": {},
   "outputs": [
    {
     "data": {
      "text/html": [
       "<div>\n",
       "<style scoped>\n",
       "    .dataframe tbody tr th:only-of-type {\n",
       "        vertical-align: middle;\n",
       "    }\n",
       "\n",
       "    .dataframe tbody tr th {\n",
       "        vertical-align: top;\n",
       "    }\n",
       "\n",
       "    .dataframe thead th {\n",
       "        text-align: right;\n",
       "    }\n",
       "</style>\n",
       "<table border=\"1\" class=\"dataframe\">\n",
       "  <thead>\n",
       "    <tr style=\"text-align: right;\">\n",
       "      <th></th>\n",
       "      <th>text</th>\n",
       "      <th>sentiment</th>\n",
       "    </tr>\n",
       "  </thead>\n",
       "  <tbody>\n",
       "    <tr>\n",
       "      <th>946</th>\n",
       "      <td>you said darling what happened did i fall asle...</td>\n",
       "      <td>positive</td>\n",
       "    </tr>\n",
       "    <tr>\n",
       "      <th>1320</th>\n",
       "      <td>httptwitpiccom67s14  saw a family of five get ...</td>\n",
       "      <td>neutral</td>\n",
       "    </tr>\n",
       "    <tr>\n",
       "      <th>245</th>\n",
       "      <td>follow me too</td>\n",
       "      <td>neutral</td>\n",
       "    </tr>\n",
       "    <tr>\n",
       "      <th>3252</th>\n",
       "      <td>the problem is superstars always deliver huge...</td>\n",
       "      <td>negative</td>\n",
       "    </tr>\n",
       "    <tr>\n",
       "      <th>1367</th>\n",
       "      <td>is watching mock the week and is slowing cooking</td>\n",
       "      <td>neutral</td>\n",
       "    </tr>\n",
       "    <tr>\n",
       "      <th>...</th>\n",
       "      <td>...</td>\n",
       "      <td>...</td>\n",
       "    </tr>\n",
       "    <tr>\n",
       "      <th>3046</th>\n",
       "      <td>back home after a funeral for my wifes grandfa...</td>\n",
       "      <td>neutral</td>\n",
       "    </tr>\n",
       "    <tr>\n",
       "      <th>3521</th>\n",
       "      <td>munchin bacon butties woohoo  my faves</td>\n",
       "      <td>positive</td>\n",
       "    </tr>\n",
       "    <tr>\n",
       "      <th>3153</th>\n",
       "      <td>thanks mr dj</td>\n",
       "      <td>positive</td>\n",
       "    </tr>\n",
       "    <tr>\n",
       "      <th>2443</th>\n",
       "      <td>good grief i cant say much i was driving home...</td>\n",
       "      <td>neutral</td>\n",
       "    </tr>\n",
       "    <tr>\n",
       "      <th>1099</th>\n",
       "      <td>i just slept that entire flight and woke up to...</td>\n",
       "      <td>neutral</td>\n",
       "    </tr>\n",
       "  </tbody>\n",
       "</table>\n",
       "<p>1061 rows × 2 columns</p>\n",
       "</div>"
      ],
      "text/plain": [
       "                                                   text sentiment\n",
       "946   you said darling what happened did i fall asle...  positive\n",
       "1320  httptwitpiccom67s14  saw a family of five get ...   neutral\n",
       "245                                       follow me too   neutral\n",
       "3252   the problem is superstars always deliver huge...  negative\n",
       "1367   is watching mock the week and is slowing cooking   neutral\n",
       "...                                                 ...       ...\n",
       "3046  back home after a funeral for my wifes grandfa...   neutral\n",
       "3521             munchin bacon butties woohoo  my faves  positive\n",
       "3153                                       thanks mr dj  positive\n",
       "2443   good grief i cant say much i was driving home...   neutral\n",
       "1099  i just slept that entire flight and woke up to...   neutral\n",
       "\n",
       "[1061 rows x 2 columns]"
      ]
     },
     "execution_count": 185,
     "metadata": {},
     "output_type": "execute_result"
    }
   ],
   "source": [
    "testing_df"
   ]
  },
  {
   "cell_type": "code",
   "execution_count": 186,
   "id": "160908b3",
   "metadata": {},
   "outputs": [],
   "source": [
    "fraction_neutral = (training_df['sentiment']=='neutral').mean()\n",
    "fraction_positive=( training_df['sentiment']=='positive').mean()\n",
    "fraction_negative= (testing_df['sentiment']=='negative').mean()\n"
   ]
  },
  {
   "cell_type": "code",
   "execution_count": 187,
   "id": "076b324f",
   "metadata": {},
   "outputs": [],
   "source": [
    "train_positive_words=''.join(training_df[training_df['sentiment']=='positive'].text).split(' ')\n",
    "train_negative_words=''.join(training_df[training_df['sentiment']=='negative'].text).split(' ')\n",
    "train_neutral_words=''.join(training_df[training_df['sentiment']=='neutral'].text).split(' ')\n",
    "\n"
   ]
  },
  {
   "cell_type": "code",
   "execution_count": 188,
   "id": "1cd3e19a",
   "metadata": {},
   "outputs": [],
   "source": [
    "common_words_pn=set(train_positive_words).intersection(set(train_negative_words))\n",
    "common_words=set(common_words_pn).intersection(set(train_neutral_words))"
   ]
  },
  {
   "cell_type": "code",
   "execution_count": 189,
   "id": "57a461ce",
   "metadata": {},
   "outputs": [],
   "source": [
    "train_neutral_bow=dict()\n",
    "for w in common_words:\n",
    "    train_neutral_bow[w]=train_neutral_words.count(w)/len(train_neutral_words)\n",
    "    \n",
    "train_positive_bow=dict()\n",
    "for w in common_words:\n",
    "    train_positive_bow[w]=train_positive_words.count(w)/len(train_positive_words)\n",
    "train_negative_bow=dict()\n",
    "for w in common_words:\n",
    "    train_negative_bow[w]=train_negative_words.count(w)/len(train_negative_words)\n"
   ]
  },
  {
   "cell_type": "code",
   "execution_count": 257,
   "id": "e7c1c0bf",
   "metadata": {},
   "outputs": [
    {
     "name": "stdout",
     "output_type": "stream",
     "text": [
      ": 0.055175318521638414\n",
      "pretty: 0.000737074865747078\n",
      "please: 0.00031588922817731913\n",
      "rained: 0.00021059281878487945\n",
      "him: 0.0006317784563546383\n",
      "seriously: 0.00010529640939243972\n",
      "burrito: 0.00010529640939243972\n",
      "loads: 0.00010529640939243972\n",
      "youre: 0.001158260503316837\n",
      "done: 0.0005264820469621986\n"
     ]
    }
   ],
   "source": [
    "for key, value in list(train_positive_bow.items())[:10]:\n",
    "    print(f'{key}: {value}')"
   ]
  },
  {
   "cell_type": "code",
   "execution_count": 258,
   "id": "16ce1992",
   "metadata": {},
   "outputs": [
    {
     "name": "stdout",
     "output_type": "stream",
     "text": [
      ": 0.04207689916053477\n",
      "pretty: 0.00020727536532283138\n",
      "please: 0.00041455073064566275\n",
      "rained: 0.00010363768266141569\n",
      "him: 0.001347289874598404\n",
      "seriously: 0.00010363768266141569\n",
      "burrito: 0.00010363768266141569\n",
      "loads: 0.00010363768266141569\n",
      "youre: 0.0006218260959684941\n",
      "done: 0.0005181884133070785\n"
     ]
    }
   ],
   "source": [
    "for key, value in list(train_negative_bow.items())[:10]:\n",
    "    print(f'{key}: {value}')"
   ]
  },
  {
   "cell_type": "markdown",
   "id": "7732f638",
   "metadata": {},
   "source": [
    "# Classification"
   ]
  },
  {
   "cell_type": "markdown",
   "id": "2d52e8e9",
   "metadata": {},
   "source": [
    "Predict on Test Set P(positive|\"awww holly shes so cute\")∝ P(\"awww holly shes so cute \"|Positive)*P(positive)\n",
    "\n",
    "we make IID assumption on the words so it can be written as\n",
    "\n",
    "P(\"aww\"|positive).P(\"holly\"|positive)...................P(\"cute\"|postive)*P(postive)\n",
    "\n"
   ]
  },
  {
   "cell_type": "markdown",
   "id": "ab06aa9e",
   "metadata": {},
   "source": [
    "\n",
    "# Predicition"
   ]
  },
  {
   "cell_type": "code",
   "execution_count": 259,
   "id": "7c08fff8",
   "metadata": {},
   "outputs": [
    {
     "name": "stdout",
     "output_type": "stream",
     "text": [
      "<generator object <genexpr> at 0x000002228B0DCD40>\n"
     ]
    }
   ],
   "source": [
    "t='she is so cute'\n",
    "valid=(w for w in t if w in train_positive_words)\n",
    "print(valid)"
   ]
  },
  {
   "cell_type": "code",
   "execution_count": 260,
   "id": "70c23c6f",
   "metadata": {},
   "outputs": [],
   "source": [
    "def predict(t,verbose=False):\n",
    "    valid_words = [w for w in t.split() if w in train_positive_bow]\n",
    "\n",
    "    positive_prob=[train_positive_bow[w] for w in valid_words]\n",
    "    negative_prob=[train_negative_bow[w] for w in valid_words]\n",
    "    neutral_prob=[train_neutral_bow[w] for w in valid_words]\n",
    "\n",
    "    \n",
    "    if verbose:\n",
    "        df=pd.DataFrame()\n",
    "        df['words']=valid_words\n",
    "        df['positive_prob']=positive_prob\n",
    "        df['negative_prob']=negative_prob\n",
    "        df['neutral_prob']=neutral_prob\n",
    "\n",
    "        df['ratio_1']=[s/n if n>0 else np.inf for s,n in zip(positive_prob,negative_prob)]\n",
    "        df['ratio_2']=[s/n if n>0 else np.inf for s,n in zip(positive_prob,neutral_prob)]\n",
    "        df['ratio_3']=[s/n if n>0 else np.inf for s,n in zip(negative_prob,neutral_prob)]\n",
    "                \n",
    "        print(df)\n",
    "    \n",
    "    pos_score=sum([np.log(p) for p in positive_prob])+np.log(fraction_positive)\n",
    "    \n",
    "    neg_score=sum([np.log(p) for p in negative_prob])+np.log(fraction_negative)\n",
    "\n",
    "    neutral_score=sum([np.log(p) for p in neutral_prob])+np.log(fraction_neutral)\n",
    "\n",
    "    if verbose:\n",
    "        print(\"positive score is :\",pos_score)\n",
    "        print(\"Negative score is :\",neg_score)\n",
    "        print('neutral Score is :',neutral_score)\n",
    "    if pos_score>=neg_score and pos_score>=neutral_score:\n",
    "        return \"positive\"\n",
    "    if neg_score>=pos_score and neg_score>=neutral_score:\n",
    "        return \"negative\"\n",
    "    if neutral_score>=neg_score and pos_score<=neutral_score:\n",
    "        return \"neutral\""
   ]
  },
  {
   "cell_type": "code",
   "execution_count": 261,
   "id": "87055fdc",
   "metadata": {},
   "outputs": [
    {
     "name": "stdout",
     "output_type": "stream",
     "text": [
      "  words  positive_prob  negative_prob  neutral_prob   ratio_1   ratio_2  \\\n",
      "0   she       0.001790       0.001140      0.001156  1.570190  1.548000   \n",
      "1    is       0.008529       0.010571      0.009416  0.806828  0.905796   \n",
      "2   not       0.002843       0.006322      0.005947  0.449707  0.478059   \n",
      "3    so       0.007687       0.009224      0.005451  0.833352  1.410032   \n",
      "4  cute       0.000737       0.000104      0.000165  7.112035  4.461883   \n",
      "\n",
      "    ratio_3  \n",
      "0  0.985868  \n",
      "1  1.122663  \n",
      "2  1.063045  \n",
      "3  1.692000  \n",
      "4  0.627371  \n",
      "positive score is : -30.230909318666672\n",
      "Negative score is : -31.622925249125974\n",
      "neutral Score is : -31.38442162479136\n"
     ]
    },
    {
     "data": {
      "text/plain": [
       "'positive'"
      ]
     },
     "execution_count": 261,
     "metadata": {},
     "output_type": "execute_result"
    }
   ],
   "source": [
    "predict(\"she is not so  cute\",True)"
   ]
  },
  {
   "cell_type": "markdown",
   "id": "86f1121c",
   "metadata": {},
   "source": [
    "# The above is not correctly classified cause we have taken IID assumption so although there is not present in the sentence but since the effect of positive prob of other words is greater which makes the total prob positive"
   ]
  },
  {
   "cell_type": "code",
   "execution_count": 262,
   "id": "5bdf8055",
   "metadata": {},
   "outputs": [
    {
     "data": {
      "text/plain": [
       "'positive'"
      ]
     },
     "execution_count": 262,
     "metadata": {},
     "output_type": "execute_result"
    }
   ],
   "source": [
    "predict(\"she is  so  cute\")"
   ]
  },
  {
   "cell_type": "code",
   "execution_count": 263,
   "id": "43a327d3",
   "metadata": {},
   "outputs": [
    {
     "data": {
      "text/plain": [
       "'neutral'"
      ]
     },
     "execution_count": 263,
     "metadata": {},
     "output_type": "execute_result"
    }
   ],
   "source": [
    "predict(\"lets meet, its gonna be crazy\")"
   ]
  },
  {
   "cell_type": "code",
   "execution_count": 264,
   "id": "4d36b688",
   "metadata": {},
   "outputs": [
    {
     "data": {
      "text/plain": [
       "946      neutral\n",
       "1320     neutral\n",
       "245      neutral\n",
       "3252    negative\n",
       "1367     neutral\n",
       "          ...   \n",
       "3046     neutral\n",
       "3521     neutral\n",
       "3153    positive\n",
       "2443    positive\n",
       "1099     neutral\n",
       "Name: text, Length: 1061, dtype: object"
      ]
     },
     "execution_count": 264,
     "metadata": {},
     "output_type": "execute_result"
    }
   ],
   "source": [
    "predictions=testing_df.text.apply(lambda t: predict(t))\n",
    "predictions"
   ]
  },
  {
   "cell_type": "code",
   "execution_count": 265,
   "id": "e16228a1",
   "metadata": {},
   "outputs": [
    {
     "name": "stdout",
     "output_type": "stream",
     "text": [
      "356\n",
      "208\n",
      "Fraction positive Correctly Detected: 0.0\n"
     ]
    }
   ],
   "source": [
    "predictions=testing_df.text.apply(lambda t: predict(t))\n",
    "print(np.sum(testing_df['sentiment']=='positive'))\n",
    "t=np.sum((predictions == 'positive') & (testing_df['sentiment'] == 'positive'))\n",
    "print(t)\n",
    "recall = np.sum((predictions == 'postive') & (testing_df['sentiment'] == 'positive')) / np.sum(testing_df['sentiment'] == 'positive')\n",
    "print('Fraction positive Correctly Detected: %s'%recall)\n"
   ]
  },
  {
   "cell_type": "code",
   "execution_count": 266,
   "id": "0ea35c15",
   "metadata": {},
   "outputs": [
    {
     "name": "stdout",
     "output_type": "stream",
     "text": [
      "Recall for Positive Sentiment: 0.5842696629213483\n",
      "Recall for Negative Sentiment: 0.44981412639405205\n",
      "Recall for Neutral Sentiment: 0.5642201834862385\n"
     ]
    }
   ],
   "source": [
    "# Assuming predictions and true_sentiments are Pandas Series or NumPy arrays\n",
    "recall_positive = np.sum((predictions == 'positive') & (testing_df['sentiment'] == 'positive')) / np.sum(testing_df['sentiment']== 'positive')\n",
    "recall_negative = np.sum((predictions == 'negative') & (testing_df['sentiment']=='negative')) / np.sum(testing_df['sentiment'] == 'negative')\n",
    "recall_neutral = np.sum((predictions == 'neutral') & (testing_df['sentiment']== 'neutral')) / np.sum(testing_df['sentiment']== 'neutral')\n",
    "\n",
    "print('Recall for Positive Sentiment:', recall_positive)\n",
    "print('Recall for Negative Sentiment:', recall_negative)\n",
    "print('Recall for Neutral Sentiment:', recall_neutral)\n"
   ]
  },
  {
   "cell_type": "code",
   "execution_count": null,
   "id": "7037e1ef",
   "metadata": {},
   "outputs": [],
   "source": []
  },
  {
   "cell_type": "code",
   "execution_count": null,
   "id": "aa706d46",
   "metadata": {},
   "outputs": [],
   "source": []
  }
 ],
 "metadata": {
  "kernelspec": {
   "display_name": "Python 3 (ipykernel)",
   "language": "python",
   "name": "python3"
  },
  "language_info": {
   "codemirror_mode": {
    "name": "ipython",
    "version": 3
   },
   "file_extension": ".py",
   "mimetype": "text/x-python",
   "name": "python",
   "nbconvert_exporter": "python",
   "pygments_lexer": "ipython3",
   "version": "3.11.4"
  }
 },
 "nbformat": 4,
 "nbformat_minor": 5
}
